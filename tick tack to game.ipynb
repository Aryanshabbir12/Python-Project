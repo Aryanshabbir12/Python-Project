{
  "cells": [
    {
      "cell_type": "code",
      "execution_count": null,
      "metadata": {
        "colab": {
          "background_save": true,
          "base_uri": "https://localhost:8080/"
        },
        "id": "9qDBcqCRXmbA",
        "outputId": "bc62a6f3-ee82-47f8-cc79-f8d545fc5d14"
      },
      "outputs": [
        {
          "name": "stdout",
          "output_type": "stream",
          "text": [
            "Choose category: length / weight / temperature\n",
            "Category: lenght\n"
          ]
        }
      ],
      "source": [
        "\\\n",
        "# Unit Converter in Google Colab\n",
        "\n",
        "def length_converter(value, from_unit, to_unit):\n",
        "    units = {\n",
        "        \"meter\": 1,\n",
        "        \"kilometer\": 1000,\n",
        "        \"centimeter\": 0.01,\n",
        "        \"millimeter\": 0.001,\n",
        "        \"mile\": 1609.34,\n",
        "        \"yard\": 0.9144,\n",
        "        \"foot\": 0.3048,\n",
        "        \"inch\": 0.0254\n",
        "    }\n",
        "    return value * units[from_unit] / units[to_unit]\n",
        "\n",
        "def weight_converter(value, from_unit, to_unit):\n",
        "    units = {\n",
        "        \"kilogram\": 1,\n",
        "        \"gram\": 0.001,\n",
        "        \"milligram\": 0.000001,\n",
        "        \"pound\": 0.453592,\n",
        "        \"ounce\": 0.0283495\n",
        "    }\n",
        "    return value * units[from_unit] / units[to_unit]\n",
        "\n",
        "def temperature_converter(value, from_unit, to_unit):\n",
        "    if from_unit == to_unit:\n",
        "        return value\n",
        "    if from_unit == \"celsius\":\n",
        "        return (value * 9/5 + 32) if to_unit == \"fahrenheit\" else (value + 273.15)\n",
        "    if from_unit == \"fahrenheit\":\n",
        "        return (value - 32) * 5/9 if to_unit == \"celsius\" else ((value - 32) * 5/9 + 273.15)\n",
        "    if from_unit == \"kelvin\":\n",
        "        return (value - 273.15) if to_unit == \"celsius\" else ((value - 273.15) * 9/5 + 32)\n",
        "\n",
        "def unit_converter():\n",
        "    print(\"Choose category: length / weight / temperature\")\n",
        "    category = input(\"Category: \").lower()\n",
        "\n",
        "    value = float(input(\"Enter value: \"))\n",
        "    from_unit = input(\"From unit: \").lower()\n",
        "    to_unit = input(\"To unit: \").lower()\n",
        "\n",
        "    if category == \"length\":\n",
        "        result = length_converter(value, from_unit, to_unit)\n",
        "    elif category == \"weight\":\n",
        "        result = weight_converter(value, from_unit, to_unit)\n",
        "    elif category == \"temperature\":\n",
        "        result = temperature_converter(value, from_unit, to_unit)\n",
        "    else:\n",
        "        print(\"Invalid category\")\n",
        "        return\n",
        "\n",
        "    print(f\"{value} {from_unit} = {result:.4f} {to_unit}\")\n",
        "\n",
        "unit_converter()\n"
      ]
    },
    {
      "cell_type": "code",
      "source": [
        "def print_board(b):\n",
        "    for row in b: print(\" | \".join(row))\n",
        "\n",
        "\n",
        "def check_winner(b, p):\n",
        "    return any(all(cell == p for cell in line) for line in [\n",
        "        [b[0][0], b[0][1], b[0][2]], [b[1][0], b[1][1], b[1][2]], [b[2][0], b[2][1], b[2][2]],\n",
        "        [b[0][0], b[1][0], b[2][0]], [b[0][1], b[1][1], b[2][1]], [b[0][2], b[1][2], b[2][2]],\n",
        "        [b[0][0], b[1][1], b[2][2]], [b[0][2], b[1][1], b[2][0]]\n",
        "    ])\n",
        "\n",
        "\n",
        "def tic_tac_toe():\n",
        "    b = [[\" \" for _ in range(3)] for _ in range(3)]\n",
        "    p = \"X\"\n",
        "\n",
        "    for _ in range(9):\n",
        "        print_board(b)\n",
        "        r, c = map(int, input(f\"{p}'s turn (row col): \").split())\n",
        "        if b[r-1][c-1] != \" \": print(\"Occupied!\"); continue\n",
        "\n",
        "        b[r-1][c-1] = p\n",
        "        if check_winner(b, p):\n",
        "            print_board(b)\n",
        "            print(f\"{p} wins!\"); return\n",
        "\n",
        "        p = \"O\" if p == \"X\" else \"X\"\n",
        "\n",
        "    print_board(b)\n",
        "    print(\"Draw!\")\n",
        "\n",
        "\n",
        "if __name__ == \"__main__\":\n",
        "    tic_tac_toe()\n"
      ],
      "metadata": {
        "colab": {
          "base_uri": "https://localhost:8080/",
          "height": 366
        },
        "id": "343yxWicgtAe",
        "outputId": "17778349-8d7f-45b7-e4de-ecd83e7a7262"
      },
      "execution_count": null,
      "outputs": [
        {
          "name": "stdout",
          "output_type": "stream",
          "text": [
            "  |   |  \n",
            "  |   |  \n",
            "  |   |  \n",
            "X's turn (row col): 1\n"
          ]
        },
        {
          "output_type": "error",
          "ename": "ValueError",
          "evalue": "not enough values to unpack (expected 2, got 1)",
          "traceback": [
            "\u001b[0;31m---------------------------------------------------------------------------\u001b[0m",
            "\u001b[0;31mValueError\u001b[0m                                Traceback (most recent call last)",
            "\u001b[0;32m<ipython-input-1-beff74b15a3d>\u001b[0m in \u001b[0;36m<cell line: 0>\u001b[0;34m()\u001b[0m\n\u001b[1;32m     32\u001b[0m \u001b[0;34m\u001b[0m\u001b[0m\n\u001b[1;32m     33\u001b[0m \u001b[0;32mif\u001b[0m \u001b[0m__name__\u001b[0m \u001b[0;34m==\u001b[0m \u001b[0;34m\"__main__\"\u001b[0m\u001b[0;34m:\u001b[0m\u001b[0;34m\u001b[0m\u001b[0;34m\u001b[0m\u001b[0m\n\u001b[0;32m---> 34\u001b[0;31m     \u001b[0mtic_tac_toe\u001b[0m\u001b[0;34m(\u001b[0m\u001b[0;34m)\u001b[0m\u001b[0;34m\u001b[0m\u001b[0;34m\u001b[0m\u001b[0m\n\u001b[0m",
            "\u001b[0;32m<ipython-input-1-beff74b15a3d>\u001b[0m in \u001b[0;36mtic_tac_toe\u001b[0;34m()\u001b[0m\n\u001b[1;32m     17\u001b[0m     \u001b[0;32mfor\u001b[0m \u001b[0m_\u001b[0m \u001b[0;32min\u001b[0m \u001b[0mrange\u001b[0m\u001b[0;34m(\u001b[0m\u001b[0;36m9\u001b[0m\u001b[0;34m)\u001b[0m\u001b[0;34m:\u001b[0m\u001b[0;34m\u001b[0m\u001b[0;34m\u001b[0m\u001b[0m\n\u001b[1;32m     18\u001b[0m         \u001b[0mprint_board\u001b[0m\u001b[0;34m(\u001b[0m\u001b[0mb\u001b[0m\u001b[0;34m)\u001b[0m\u001b[0;34m\u001b[0m\u001b[0;34m\u001b[0m\u001b[0m\n\u001b[0;32m---> 19\u001b[0;31m         \u001b[0mr\u001b[0m\u001b[0;34m,\u001b[0m \u001b[0mc\u001b[0m \u001b[0;34m=\u001b[0m \u001b[0mmap\u001b[0m\u001b[0;34m(\u001b[0m\u001b[0mint\u001b[0m\u001b[0;34m,\u001b[0m \u001b[0minput\u001b[0m\u001b[0;34m(\u001b[0m\u001b[0;34mf\"{p}'s turn (row col): \"\u001b[0m\u001b[0;34m)\u001b[0m\u001b[0;34m.\u001b[0m\u001b[0msplit\u001b[0m\u001b[0;34m(\u001b[0m\u001b[0;34m)\u001b[0m\u001b[0;34m)\u001b[0m\u001b[0;34m\u001b[0m\u001b[0;34m\u001b[0m\u001b[0m\n\u001b[0m\u001b[1;32m     20\u001b[0m         \u001b[0;32mif\u001b[0m \u001b[0mb\u001b[0m\u001b[0;34m[\u001b[0m\u001b[0mr\u001b[0m\u001b[0;34m-\u001b[0m\u001b[0;36m1\u001b[0m\u001b[0;34m]\u001b[0m\u001b[0;34m[\u001b[0m\u001b[0mc\u001b[0m\u001b[0;34m-\u001b[0m\u001b[0;36m1\u001b[0m\u001b[0;34m]\u001b[0m \u001b[0;34m!=\u001b[0m \u001b[0;34m\" \"\u001b[0m\u001b[0;34m:\u001b[0m \u001b[0mprint\u001b[0m\u001b[0;34m(\u001b[0m\u001b[0;34m\"Occupied!\"\u001b[0m\u001b[0;34m)\u001b[0m\u001b[0;34m;\u001b[0m \u001b[0;32mcontinue\u001b[0m\u001b[0;34m\u001b[0m\u001b[0;34m\u001b[0m\u001b[0m\n\u001b[1;32m     21\u001b[0m \u001b[0;34m\u001b[0m\u001b[0m\n",
            "\u001b[0;31mValueError\u001b[0m: not enough values to unpack (expected 2, got 1)"
          ]
        }
      ]
    }
  ],
  "metadata": {
    "colab": {
      "provenance": []
    },
    "kernelspec": {
      "display_name": "Python 3",
      "name": "python3"
    },
    "language_info": {
      "name": "python"
    }
  },
  "nbformat": 4,
  "nbformat_minor": 0
}
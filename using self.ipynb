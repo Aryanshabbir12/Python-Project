{
  "nbformat": 4,
  "nbformat_minor": 0,
  "metadata": {
    "colab": {
      "provenance": []
    },
    "kernelspec": {
      "name": "python3",
      "display_name": "Python 3"
    },
    "language_info": {
      "name": "python"
    }
  },
  "cells": [
    {
      "cell_type": "code",
      "execution_count": 1,
      "metadata": {
        "colab": {
          "base_uri": "https://localhost:8080/"
        },
        "id": "7MiX6JEFjJ3R",
        "outputId": "06bce977-7f8d-4faf-cc05-df498bdfa938"
      },
      "outputs": [
        {
          "output_type": "stream",
          "name": "stdout",
          "text": [
            "Name: Ali, Marks: 85\n",
            "Name: Ayesha, Marks: 92\n"
          ]
        }
      ],
      "source": [
        "# //using  self creat a class student with attributes name and marks\n",
        "\n",
        "class Student:\n",
        "    def __init__(self, name, marks):\n",
        "        self.name = name\n",
        "        self.marks = marks\n",
        "\n",
        "    def display(self):\n",
        "        print(f\"Name: {self.name}, Marks: {self.marks}\")\n",
        "\n",
        "\n",
        "s1 = Student(\"Ali\", 85)\n",
        "s2 = Student(\"Ayesha\", 92)\n",
        "\n",
        "s1.display()\n",
        "s2.display()\n"
      ]
    },
    {
      "cell_type": "code",
      "source": [],
      "metadata": {
        "id": "4RM7EZAejMim"
      },
      "execution_count": null,
      "outputs": []
    }
  ]
}